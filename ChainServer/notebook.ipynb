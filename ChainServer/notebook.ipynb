{
 "cells": [
  {
   "cell_type": "markdown",
   "metadata": {},
   "source": [
    "# Traval Chain"
   ]
  },
  {
   "cell_type": "code",
   "execution_count": 83,
   "metadata": {},
   "outputs": [
    {
     "data": {
      "text/plain": [
       "'[\"Tokyo\", \"Travel\", \"Adventure\", \"Japan\", \"CityLife\"]'"
      ]
     },
     "execution_count": 83,
     "metadata": {},
     "output_type": "execute_result"
    }
   ],
   "source": []
  },
  {
   "cell_type": "code",
   "execution_count": 89,
   "metadata": {},
   "outputs": [
    {
     "data": {
      "text/plain": [
       "'[\"Shibuya Crossing\", \"Meiji Shrine\"]'"
      ]
     },
     "execution_count": 89,
     "metadata": {},
     "output_type": "execute_result"
    }
   ],
   "source": []
  },
  {
   "cell_type": "code",
   "execution_count": 93,
   "metadata": {},
   "outputs": [
    {
     "data": {
      "text/plain": [
       "'No complete addresses were mentioned in the provided description. The example addresses I provided were just that - examples - and were not extracted from the description. Here is the original description with no addresses or extra characters:\\n\\nExploring the vibrant streets of Tokyo! From the bustling Shibuya Crossing to the serene Meiji Shrine, every corner of this city is a new adventure. #Tokyo #Travel #Adventure #Japan #CityLife'"
      ]
     },
     "execution_count": 93,
     "metadata": {},
     "output_type": "execute_result"
    }
   ],
   "source": []
  },
  {
   "cell_type": "code",
   "execution_count": 94,
   "metadata": {},
   "outputs": [
    {
     "name": "stdout",
     "output_type": "stream",
     "text": [
      "University of Ottawa, Ottawa, ON, Canada\n",
      "University of Waterloo, Waterloo, ON, Canada\n",
      "Nosara, Costa Rica\n",
      "\"Brampton, ON, Canada, L6C 2E6\"\n"
     ]
    }
   ],
   "source": [
    "instagram_descroption = \"Attending Hack the Hill in the university of Ottawa!!\"\n",
    "# Invoking the chain\n",
    "print(chain.invoke({\"text\": instagram_descroption}).content)\n",
    "instagram_descroption = \"Attending Hack the North in the university of Waterloo!!\"\n",
    "# Invoking the chain\n",
    "print(chain.invoke({\"text\": instagram_descroption}).content)\n",
    "instagram_descroption = \"Chilling out on a beach in nosara costa rica\"\n",
    "# Invoking the chain\n",
    "print(chain.invoke({\"text\": instagram_descroption}).content)\n",
    "\n",
    "instagram_descroption = \"Going home to l6c 2e6\"\n",
    "# Invoking the chain\n",
    "print(chain.invoke({\"text\": instagram_descroption}).content)"
   ]
  },
  {
   "cell_type": "code",
   "execution_count": 95,
   "metadata": {},
   "outputs": [
    {
     "data": {
      "text/plain": [
       "'809 Dundas St W, Toronto, ON, Canada'"
      ]
     },
     "execution_count": 95,
     "metadata": {},
     "output_type": "execute_result"
    }
   ],
   "source": [
    "description = \"\"\"README.mdSteven sent an attachment.@renaissancepizzato 📍809 Dundas St W. Pepperoni Fennel Sausage Canadian Tandoori Paneer Duck Confit Mushroom Truffle Greek Cheese Price range $17 - $37 depending on the topping & size #gifted the cheese crust was the best thing we’ve ever tasted. This is the absolute best hangover food🍕🧀 🍩 toronto restaurants, toronto food, toronto life, toronto foodie, toronto things to do, toronto weekend, toronto date ideas, toronto brunch, toronto coffee shops, toronto date night, toronto summer, toronto patio, toronto influencer, toronto content creator, toronto beauty mukbangtoronto\n",
    "https://www.instagram.com/reel/C2U9E9JrnHJ/?id=3284518649635697097_20219479882\n",
    "💀_juliensenatus\n",
    "\"\"\"\n",
    "\n",
    "# Invoking the chain\n",
    "chain.invoke({\"text\": description}).content"
   ]
  }
 ],
 "metadata": {
  "kernelspec": {
   "display_name": "venv",
   "language": "python",
   "name": "python3"
  },
  "language_info": {
   "codemirror_mode": {
    "name": "ipython",
    "version": 3
   },
   "file_extension": ".py",
   "mimetype": "text/x-python",
   "name": "python",
   "nbconvert_exporter": "python",
   "pygments_lexer": "ipython3",
   "version": "3.12.6"
  }
 },
 "nbformat": 4,
 "nbformat_minor": 2
}
